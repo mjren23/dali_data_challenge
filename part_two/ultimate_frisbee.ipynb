{
 "cells": [
  {
   "cell_type": "code",
   "execution_count": 8,
   "id": "22e45372",
   "metadata": {
    "scrolled": true
   },
   "outputs": [],
   "source": [
    "import numpy as np\n",
    "import pandas as pd\n",
    "import matplotlib.pyplot as plt\n",
    "from datetime import datetime \n",
    "from matplotlib import dates as mdates\n",
    "%matplotlib inline"
   ]
  },
  {
   "cell_type": "code",
   "execution_count": 2,
   "id": "b0baa3f8",
   "metadata": {
    "scrolled": true
   },
   "outputs": [],
   "source": [
    "# load data in\n",
    "df = pd.read_csv(\"2015_event_data.csv\", dtype={\"Opponent\": \"string\", \"Player 0\": \"string\", \"Player 1\": \"string\", \n",
    "                                                    \"Player 2\": \"string\", \"Player 3\": \"string\",\n",
    "                                                    \"Player 4\": \"string\", \"Player 5\": \"string\",\n",
    "                                                    \"Player 6\": \"string\", \"Player 7\": \"string\", \n",
    "                                                    \"Player 8\": \"string\", \"Player 9\": \"string\",\n",
    "                                                    \"Player 10\": \"string\", \"Player 11\": \"string\",\n",
    "                                                    \"Player 12\": \"string\", \"Player 13\": \"string\",\n",
    "                                                    \"Player 14\": \"string\", \"Player 15\": \"string\",\n",
    "                                                    \"Player 16\": \"string\", \"Player 17\": \"string\", \n",
    "                                                    \"Player 18\": \"string\", \"Player 19\": \"string\",\n",
    "                                                    \"Player 20\": \"string\", \"Player 21\": \"string\",\n",
    "                                                    \"Player 22\": \"string\", \"Player 23\": \"string\",\n",
    "                                                    \"Player 24\": \"string\", \"Player 25\": \"string\",\n",
    "                                                    \"Player 26\": \"string\", \"Player 27\": \"string\"})"
   ]
  },
  {
   "cell_type": "code",
   "execution_count": 3,
   "id": "3fbaf2bd",
   "metadata": {
    "scrolled": true
   },
   "outputs": [
    {
     "data": {
      "text/html": [
       "<div>\n",
       "<style scoped>\n",
       "    .dataframe tbody tr th:only-of-type {\n",
       "        vertical-align: middle;\n",
       "    }\n",
       "\n",
       "    .dataframe tbody tr th {\n",
       "        vertical-align: top;\n",
       "    }\n",
       "\n",
       "    .dataframe thead th {\n",
       "        text-align: right;\n",
       "    }\n",
       "</style>\n",
       "<table border=\"1\" class=\"dataframe\">\n",
       "  <thead>\n",
       "    <tr style=\"text-align: right;\">\n",
       "      <th></th>\n",
       "      <th>Unnamed: 0</th>\n",
       "      <th>Date/Time</th>\n",
       "      <th>Tournamemnt</th>\n",
       "      <th>Opponent</th>\n",
       "      <th>Point Elapsed Seconds</th>\n",
       "      <th>Line</th>\n",
       "      <th>Our Score - End of Point</th>\n",
       "      <th>Their Score - End of Point</th>\n",
       "      <th>Event Type</th>\n",
       "      <th>Action</th>\n",
       "      <th>...</th>\n",
       "      <th>Player 20</th>\n",
       "      <th>Player 21</th>\n",
       "      <th>Player 22</th>\n",
       "      <th>Player 23</th>\n",
       "      <th>Player 24</th>\n",
       "      <th>Player 25</th>\n",
       "      <th>Player 26</th>\n",
       "      <th>Player 27</th>\n",
       "      <th>Elapsed Time (secs)</th>\n",
       "      <th>Team</th>\n",
       "    </tr>\n",
       "  </thead>\n",
       "  <tbody>\n",
       "    <tr>\n",
       "      <th>0</th>\n",
       "      <td>0</td>\n",
       "      <td>2015-04-12 13:09</td>\n",
       "      <td>NaN</td>\n",
       "      <td>Charlotte Express</td>\n",
       "      <td>27</td>\n",
       "      <td>O</td>\n",
       "      <td>1</td>\n",
       "      <td>0</td>\n",
       "      <td>Offense</td>\n",
       "      <td>Catch</td>\n",
       "      <td>...</td>\n",
       "      <td>&lt;NA&gt;</td>\n",
       "      <td>&lt;NA&gt;</td>\n",
       "      <td>&lt;NA&gt;</td>\n",
       "      <td>&lt;NA&gt;</td>\n",
       "      <td>&lt;NA&gt;</td>\n",
       "      <td>&lt;NA&gt;</td>\n",
       "      <td>&lt;NA&gt;</td>\n",
       "      <td>&lt;NA&gt;</td>\n",
       "      <td>0.0</td>\n",
       "      <td>AtlantaHustle</td>\n",
       "    </tr>\n",
       "    <tr>\n",
       "      <th>1</th>\n",
       "      <td>1</td>\n",
       "      <td>2015-04-12 13:09</td>\n",
       "      <td>NaN</td>\n",
       "      <td>Charlotte Express</td>\n",
       "      <td>27</td>\n",
       "      <td>O</td>\n",
       "      <td>1</td>\n",
       "      <td>0</td>\n",
       "      <td>Offense</td>\n",
       "      <td>Catch</td>\n",
       "      <td>...</td>\n",
       "      <td>&lt;NA&gt;</td>\n",
       "      <td>&lt;NA&gt;</td>\n",
       "      <td>&lt;NA&gt;</td>\n",
       "      <td>&lt;NA&gt;</td>\n",
       "      <td>&lt;NA&gt;</td>\n",
       "      <td>&lt;NA&gt;</td>\n",
       "      <td>&lt;NA&gt;</td>\n",
       "      <td>&lt;NA&gt;</td>\n",
       "      <td>9.0</td>\n",
       "      <td>AtlantaHustle</td>\n",
       "    </tr>\n",
       "    <tr>\n",
       "      <th>2</th>\n",
       "      <td>2</td>\n",
       "      <td>2015-04-12 13:09</td>\n",
       "      <td>NaN</td>\n",
       "      <td>Charlotte Express</td>\n",
       "      <td>27</td>\n",
       "      <td>O</td>\n",
       "      <td>1</td>\n",
       "      <td>0</td>\n",
       "      <td>Offense</td>\n",
       "      <td>Catch</td>\n",
       "      <td>...</td>\n",
       "      <td>&lt;NA&gt;</td>\n",
       "      <td>&lt;NA&gt;</td>\n",
       "      <td>&lt;NA&gt;</td>\n",
       "      <td>&lt;NA&gt;</td>\n",
       "      <td>&lt;NA&gt;</td>\n",
       "      <td>&lt;NA&gt;</td>\n",
       "      <td>&lt;NA&gt;</td>\n",
       "      <td>&lt;NA&gt;</td>\n",
       "      <td>13.0</td>\n",
       "      <td>AtlantaHustle</td>\n",
       "    </tr>\n",
       "    <tr>\n",
       "      <th>3</th>\n",
       "      <td>3</td>\n",
       "      <td>2015-04-12 13:09</td>\n",
       "      <td>NaN</td>\n",
       "      <td>Charlotte Express</td>\n",
       "      <td>27</td>\n",
       "      <td>O</td>\n",
       "      <td>1</td>\n",
       "      <td>0</td>\n",
       "      <td>Offense</td>\n",
       "      <td>Catch</td>\n",
       "      <td>...</td>\n",
       "      <td>&lt;NA&gt;</td>\n",
       "      <td>&lt;NA&gt;</td>\n",
       "      <td>&lt;NA&gt;</td>\n",
       "      <td>&lt;NA&gt;</td>\n",
       "      <td>&lt;NA&gt;</td>\n",
       "      <td>&lt;NA&gt;</td>\n",
       "      <td>&lt;NA&gt;</td>\n",
       "      <td>&lt;NA&gt;</td>\n",
       "      <td>17.0</td>\n",
       "      <td>AtlantaHustle</td>\n",
       "    </tr>\n",
       "    <tr>\n",
       "      <th>4</th>\n",
       "      <td>4</td>\n",
       "      <td>2015-04-12 13:09</td>\n",
       "      <td>NaN</td>\n",
       "      <td>Charlotte Express</td>\n",
       "      <td>27</td>\n",
       "      <td>O</td>\n",
       "      <td>1</td>\n",
       "      <td>0</td>\n",
       "      <td>Offense</td>\n",
       "      <td>Catch</td>\n",
       "      <td>...</td>\n",
       "      <td>&lt;NA&gt;</td>\n",
       "      <td>&lt;NA&gt;</td>\n",
       "      <td>&lt;NA&gt;</td>\n",
       "      <td>&lt;NA&gt;</td>\n",
       "      <td>&lt;NA&gt;</td>\n",
       "      <td>&lt;NA&gt;</td>\n",
       "      <td>&lt;NA&gt;</td>\n",
       "      <td>&lt;NA&gt;</td>\n",
       "      <td>21.0</td>\n",
       "      <td>AtlantaHustle</td>\n",
       "    </tr>\n",
       "  </tbody>\n",
       "</table>\n",
       "<p>5 rows × 44 columns</p>\n",
       "</div>"
      ],
      "text/plain": [
       "   Unnamed: 0         Date/Time Tournamemnt           Opponent  \\\n",
       "0           0  2015-04-12 13:09         NaN  Charlotte Express   \n",
       "1           1  2015-04-12 13:09         NaN  Charlotte Express   \n",
       "2           2  2015-04-12 13:09         NaN  Charlotte Express   \n",
       "3           3  2015-04-12 13:09         NaN  Charlotte Express   \n",
       "4           4  2015-04-12 13:09         NaN  Charlotte Express   \n",
       "\n",
       "   Point Elapsed Seconds Line  Our Score - End of Point  \\\n",
       "0                     27    O                         1   \n",
       "1                     27    O                         1   \n",
       "2                     27    O                         1   \n",
       "3                     27    O                         1   \n",
       "4                     27    O                         1   \n",
       "\n",
       "   Their Score - End of Point Event Type Action  ... Player 20 Player 21  \\\n",
       "0                           0    Offense  Catch  ...      <NA>      <NA>   \n",
       "1                           0    Offense  Catch  ...      <NA>      <NA>   \n",
       "2                           0    Offense  Catch  ...      <NA>      <NA>   \n",
       "3                           0    Offense  Catch  ...      <NA>      <NA>   \n",
       "4                           0    Offense  Catch  ...      <NA>      <NA>   \n",
       "\n",
       "  Player 22  Player 23 Player 24 Player 25 Player 26 Player 27  \\\n",
       "0      <NA>       <NA>      <NA>      <NA>      <NA>      <NA>   \n",
       "1      <NA>       <NA>      <NA>      <NA>      <NA>      <NA>   \n",
       "2      <NA>       <NA>      <NA>      <NA>      <NA>      <NA>   \n",
       "3      <NA>       <NA>      <NA>      <NA>      <NA>      <NA>   \n",
       "4      <NA>       <NA>      <NA>      <NA>      <NA>      <NA>   \n",
       "\n",
       "  Elapsed Time (secs)           Team  \n",
       "0                 0.0  AtlantaHustle  \n",
       "1                 9.0  AtlantaHustle  \n",
       "2                13.0  AtlantaHustle  \n",
       "3                17.0  AtlantaHustle  \n",
       "4                21.0  AtlantaHustle  \n",
       "\n",
       "[5 rows x 44 columns]"
      ]
     },
     "execution_count": 3,
     "metadata": {},
     "output_type": "execute_result"
    }
   ],
   "source": [
    "# peek \n",
    "df.head()"
   ]
  },
  {
   "cell_type": "code",
   "execution_count": 79,
   "id": "20b73329",
   "metadata": {
    "scrolled": false
   },
   "outputs": [],
   "source": [
    "# see what kinds of actions are recorded \n",
    "df['Action'].value_counts()\n",
    "all_actions = list(dict(df[\"Action\"].value_counts()).keys())"
   ]
  },
  {
   "cell_type": "code",
   "execution_count": 81,
   "id": "210d31a4",
   "metadata": {},
   "outputs": [
    {
     "data": {
      "text/plain": [
       "['Catch',\n",
       " 'Goal',\n",
       " 'Throwaway',\n",
       " 'Pull',\n",
       " 'D',\n",
       " 'OpponentCatch',\n",
       " 'Drop',\n",
       " 'PullOb',\n",
       " 'EndOfFirstQuarter',\n",
       " 'Halftime',\n",
       " 'EndOfThirdQuarter',\n",
       " 'GameOver',\n",
       " 'OpponentPull',\n",
       " 'Stall',\n",
       " 'MiscPenalty',\n",
       " 'OpponentPullOb',\n",
       " 'EndOfFourthQuarter',\n",
       " 'Callahan',\n",
       " 'EndOfOvertime']"
      ]
     },
     "execution_count": 81,
     "metadata": {},
     "output_type": "execute_result"
    }
   ],
   "source": [
    "all_actions"
   ]
  },
  {
   "cell_type": "code",
   "execution_count": 6,
   "id": "62143fd4",
   "metadata": {},
   "outputs": [
    {
     "data": {
      "text/html": [
       "<div>\n",
       "<style scoped>\n",
       "    .dataframe tbody tr th:only-of-type {\n",
       "        vertical-align: middle;\n",
       "    }\n",
       "\n",
       "    .dataframe tbody tr th {\n",
       "        vertical-align: top;\n",
       "    }\n",
       "\n",
       "    .dataframe thead th {\n",
       "        text-align: right;\n",
       "    }\n",
       "</style>\n",
       "<table border=\"1\" class=\"dataframe\">\n",
       "  <thead>\n",
       "    <tr style=\"text-align: right;\">\n",
       "      <th></th>\n",
       "      <th>audl_name</th>\n",
       "      <th>full_name</th>\n",
       "      <th>team</th>\n",
       "    </tr>\n",
       "  </thead>\n",
       "  <tbody>\n",
       "    <tr>\n",
       "      <th>0</th>\n",
       "      <td>Pannon M</td>\n",
       "      <td>Mike Pannone</td>\n",
       "      <td>Pittsburgh</td>\n",
       "    </tr>\n",
       "    <tr>\n",
       "      <th>1</th>\n",
       "      <td>Lally P</td>\n",
       "      <td>Paul Lally</td>\n",
       "      <td>Nashville</td>\n",
       "    </tr>\n",
       "    <tr>\n",
       "      <th>2</th>\n",
       "      <td>Bryant D</td>\n",
       "      <td>Bryant Dean</td>\n",
       "      <td>DC</td>\n",
       "    </tr>\n",
       "    <tr>\n",
       "      <th>3</th>\n",
       "      <td>Baumer J</td>\n",
       "      <td>Jacob Baumer</td>\n",
       "      <td>Los Angeles</td>\n",
       "    </tr>\n",
       "    <tr>\n",
       "      <th>4</th>\n",
       "      <td>Leo P</td>\n",
       "      <td>Leo Pepper</td>\n",
       "      <td>DC</td>\n",
       "    </tr>\n",
       "  </tbody>\n",
       "</table>\n",
       "</div>"
      ],
      "text/plain": [
       "  audl_name     full_name         team\n",
       "0  Pannon M  Mike Pannone   Pittsburgh\n",
       "1   Lally P    Paul Lally    Nashville\n",
       "2  Bryant D   Bryant Dean           DC\n",
       "3  Baumer J  Jacob Baumer  Los Angeles\n",
       "4     Leo P    Leo Pepper           DC"
      ]
     },
     "execution_count": 6,
     "metadata": {},
     "output_type": "execute_result"
    }
   ],
   "source": [
    "# explore the player csv too \n",
    "df_players = pd.read_csv(\"combined_dict_fixed.csv\")\n",
    "df_players.head()"
   ]
  },
  {
   "cell_type": "code",
   "execution_count": 130,
   "id": "ca2e91e0",
   "metadata": {},
   "outputs": [],
   "source": [
    "# transform main dataframe (events) into counts of things per game \n",
    "count = 0\n",
    "event_counts = dict()\n",
    "# actions we're interested in: \n",
    "relevant_actions = [\"Catch\", \"Throwaway\", \"Drop\", \"D\", \"Stall\", \"GameOver\"]\n",
    "\n",
    "for index, row in df.iterrows():\n",
    "    event = row[\"Action\"]\n",
    "    if event not in relevant_actions:\n",
    "        continue \n",
    "        \n",
    "\n",
    "    date_obj = datetime.strptime(row[\"Date/Time\"], '%Y-%m-%d %H:%M').date()\n",
    "    if row[\"Team\"] == \"Revolution\":\n",
    "        row[\"Team\"] = \"CincinnatiRevolution\"\n",
    "    if row[\"Opponent\"] == \"Revolution\":\n",
    "        row[\"Opponent\"] = \"CincinnatiRevolution\"\n",
    "\n",
    "    \n",
    "    if pd.isna(row[\"Team\"]):  # handle special case where data formatted incorrently\n",
    "        if row[\"Player 1\"] == \"Revolution\":\n",
    "            row[\"Player 1\"] == \"CincinnatiRevolution\"\n",
    "        name_unique = str(row[\"Player 1\"]) + \" v. \" + row[\"Opponent\"].replace(\"vs\", \"\").replace(\"2015\", \"\").replace(\" \", \"\") + \", \" + str(date_obj)\n",
    "    else:\n",
    "        name_unique = row[\"Team\"] + \" v. \" + row[\"Opponent\"].replace(\"vs\", \"\").replace(\"2015\", \"\").replace(\" \", \"\") + \", \" + str(date_obj)\n",
    "    \n",
    "    name_unique = name_unique.lower()\n",
    "    if name_unique not in event_counts:\n",
    "        event_counts[name_unique] = dict()\n",
    "    sub_dict = event_counts[name_unique]\n",
    "    \n",
    "    if event == \"GameOver\":\n",
    "        sub_dict[\"Score\"] = (row[\"Our Score - End of Point\"], row[\"Their Score - End of Point\"]) \n",
    "    else:\n",
    "        \n",
    "        sub_dict[event] = sub_dict.get(event, 0) + 1\n",
    "\n",
    "        "
   ]
  },
  {
   "cell_type": "code",
   "execution_count": 156,
   "id": "2efbce49",
   "metadata": {},
   "outputs": [],
   "source": [
    "# fix not getting all scores \n",
    "list_drop = []\n",
    "for game_name in event_counts:\n",
    "    try:\n",
    "        if \"Score\" not in event_counts[game_name]:\n",
    "            parts_name = game_name.split(\" \")\n",
    "            dict_other = event_counts[parts_name[2][:-1] + \" v. \" + parts_name[0] + \", \" + parts_name[-1]]\n",
    "            event_counts[game_name][\"Score\"] = (dict_other[\"Score\"][1], dict_other[\"Score\"][0])\n",
    "    except KeyError:  # implies unable to parse - error in recording this game \n",
    "        # assuming that they're randomly dropped - representative of larger sample, ok to drop these \n",
    "        list_drop.append(game_name)\n",
    "    if event_counts[game_name][\"Catch\"] < event_counts[game_name][\"Score\"][0]:  # impossible, implies typo \n",
    "        list_drop.append(game_name)\n",
    "    for action in relevant_actions:\n",
    "        if action not in event_counts[game_name]:\n",
    "            event_counts[game_name][action] = 0\n",
    "            \n",
    "for to_drop in list_drop:\n",
    "    del event_counts[to_drop]\n",
    "            \n",
    "\n"
   ]
  },
  {
   "cell_type": "code",
   "execution_count": 165,
   "id": "0140299d",
   "metadata": {},
   "outputs": [],
   "source": [
    "from collections import defaultdict\n",
    "data_dict = defaultdict(list)\n",
    "\n",
    "for game_name in event_counts:\n",
    "    game_dict = event_counts[game_name]\n",
    "    data_dict[\"game_title\"].append(game_name)\n",
    "    data_dict[\"catches\"].append(game_dict[\"Catch\"])\n",
    "    data_dict[\"ds\"].append(game_dict[\"D\"])\n",
    "    data_dict[\"throwaways\"].append(game_dict[\"Throwaway\"])\n",
    "    data_dict[\"drop\"].append(game_dict[\"Drop\"])\n",
    "    data_dict[\"stall\"].append(game_dict[\"Stall\"])\n",
    "    data_dict[\"score\"].append(game_dict[\"Score\"])\n",
    "    data_dict[\"point_margin\"].append(game_dict[\"Score\"][0] - game_dict[\"Score\"][1])\n",
    "    \n",
    "df_transformed = pd.DataFrame.from_dict(data_dict)\n",
    "\n"
   ]
  },
  {
   "cell_type": "code",
   "execution_count": 158,
   "id": "802a8f93",
   "metadata": {
    "scrolled": true
   },
   "outputs": [
    {
     "name": "stdout",
     "output_type": "stream",
     "text": [
      "349\n"
     ]
    },
    {
     "data": {
      "text/html": [
       "<div>\n",
       "<style scoped>\n",
       "    .dataframe tbody tr th:only-of-type {\n",
       "        vertical-align: middle;\n",
       "    }\n",
       "\n",
       "    .dataframe tbody tr th {\n",
       "        vertical-align: top;\n",
       "    }\n",
       "\n",
       "    .dataframe thead th {\n",
       "        text-align: right;\n",
       "    }\n",
       "</style>\n",
       "<table border=\"1\" class=\"dataframe\">\n",
       "  <thead>\n",
       "    <tr style=\"text-align: right;\">\n",
       "      <th></th>\n",
       "      <th>game_title</th>\n",
       "      <th>catches</th>\n",
       "      <th>ds</th>\n",
       "      <th>throwaways</th>\n",
       "      <th>drop</th>\n",
       "      <th>stall</th>\n",
       "      <th>score</th>\n",
       "      <th>point_margin</th>\n",
       "    </tr>\n",
       "  </thead>\n",
       "  <tbody>\n",
       "    <tr>\n",
       "      <th>0</th>\n",
       "      <td>atlantahustle v. charlotteexpress, 2015-04-12</td>\n",
       "      <td>203</td>\n",
       "      <td>16</td>\n",
       "      <td>43</td>\n",
       "      <td>4</td>\n",
       "      <td>0</td>\n",
       "      <td>(27, 25)</td>\n",
       "      <td>2</td>\n",
       "    </tr>\n",
       "    <tr>\n",
       "      <th>1</th>\n",
       "      <td>atlantahustle v. nashvillenightwatch, 2015-07-12</td>\n",
       "      <td>212</td>\n",
       "      <td>15</td>\n",
       "      <td>22</td>\n",
       "      <td>3</td>\n",
       "      <td>0</td>\n",
       "      <td>(28, 18)</td>\n",
       "      <td>10</td>\n",
       "    </tr>\n",
       "    <tr>\n",
       "      <th>2</th>\n",
       "      <td>atlantahustle v. raleighflyers, 2015-04-11</td>\n",
       "      <td>276</td>\n",
       "      <td>12</td>\n",
       "      <td>34</td>\n",
       "      <td>6</td>\n",
       "      <td>0</td>\n",
       "      <td>(22, 29)</td>\n",
       "      <td>-7</td>\n",
       "    </tr>\n",
       "    <tr>\n",
       "      <th>3</th>\n",
       "      <td>atlantahustle v. jacksonvillecannons, 2015-07-04</td>\n",
       "      <td>220</td>\n",
       "      <td>12</td>\n",
       "      <td>25</td>\n",
       "      <td>2</td>\n",
       "      <td>1</td>\n",
       "      <td>(21, 24)</td>\n",
       "      <td>-3</td>\n",
       "    </tr>\n",
       "    <tr>\n",
       "      <th>4</th>\n",
       "      <td>atlantahustle v. nashvillenightwatch, 2015-05-03</td>\n",
       "      <td>243</td>\n",
       "      <td>16</td>\n",
       "      <td>29</td>\n",
       "      <td>4</td>\n",
       "      <td>0</td>\n",
       "      <td>(30, 20)</td>\n",
       "      <td>10</td>\n",
       "    </tr>\n",
       "    <tr>\n",
       "      <th>5</th>\n",
       "      <td>atlantahustle v. jacksonvillecannons, 2015-06-20</td>\n",
       "      <td>213</td>\n",
       "      <td>12</td>\n",
       "      <td>24</td>\n",
       "      <td>3</td>\n",
       "      <td>2</td>\n",
       "      <td>(27, 29)</td>\n",
       "      <td>-2</td>\n",
       "    </tr>\n",
       "    <tr>\n",
       "      <th>6</th>\n",
       "      <td>atlantahustle v. jacksonvillecannons, 2015-04-26</td>\n",
       "      <td>245</td>\n",
       "      <td>19</td>\n",
       "      <td>39</td>\n",
       "      <td>3</td>\n",
       "      <td>0</td>\n",
       "      <td>(23, 20)</td>\n",
       "      <td>3</td>\n",
       "    </tr>\n",
       "    <tr>\n",
       "      <th>7</th>\n",
       "      <td>atlantahustle v. charlotteexpress, 2015-05-29</td>\n",
       "      <td>234</td>\n",
       "      <td>17</td>\n",
       "      <td>30</td>\n",
       "      <td>4</td>\n",
       "      <td>0</td>\n",
       "      <td>(26, 18)</td>\n",
       "      <td>8</td>\n",
       "    </tr>\n",
       "    <tr>\n",
       "      <th>8</th>\n",
       "      <td>atlantahustle v. jacksonvillecannons, 2015-05-16</td>\n",
       "      <td>287</td>\n",
       "      <td>12</td>\n",
       "      <td>23</td>\n",
       "      <td>5</td>\n",
       "      <td>1</td>\n",
       "      <td>(22, 26)</td>\n",
       "      <td>-4</td>\n",
       "    </tr>\n",
       "    <tr>\n",
       "      <th>9</th>\n",
       "      <td>atlantahustle v. nashvillenightwatch, 2015-06-14</td>\n",
       "      <td>223</td>\n",
       "      <td>10</td>\n",
       "      <td>32</td>\n",
       "      <td>2</td>\n",
       "      <td>0</td>\n",
       "      <td>(25, 21)</td>\n",
       "      <td>4</td>\n",
       "    </tr>\n",
       "  </tbody>\n",
       "</table>\n",
       "</div>"
      ],
      "text/plain": [
       "                                         game_title  catches  ds  throwaways  \\\n",
       "0     atlantahustle v. charlotteexpress, 2015-04-12      203  16          43   \n",
       "1  atlantahustle v. nashvillenightwatch, 2015-07-12      212  15          22   \n",
       "2        atlantahustle v. raleighflyers, 2015-04-11      276  12          34   \n",
       "3  atlantahustle v. jacksonvillecannons, 2015-07-04      220  12          25   \n",
       "4  atlantahustle v. nashvillenightwatch, 2015-05-03      243  16          29   \n",
       "5  atlantahustle v. jacksonvillecannons, 2015-06-20      213  12          24   \n",
       "6  atlantahustle v. jacksonvillecannons, 2015-04-26      245  19          39   \n",
       "7     atlantahustle v. charlotteexpress, 2015-05-29      234  17          30   \n",
       "8  atlantahustle v. jacksonvillecannons, 2015-05-16      287  12          23   \n",
       "9  atlantahustle v. nashvillenightwatch, 2015-06-14      223  10          32   \n",
       "\n",
       "   drop  stall     score  point_margin  \n",
       "0     4      0  (27, 25)             2  \n",
       "1     3      0  (28, 18)            10  \n",
       "2     6      0  (22, 29)            -7  \n",
       "3     2      1  (21, 24)            -3  \n",
       "4     4      0  (30, 20)            10  \n",
       "5     3      2  (27, 29)            -2  \n",
       "6     3      0  (23, 20)             3  \n",
       "7     4      0  (26, 18)             8  \n",
       "8     5      1  (22, 26)            -4  \n",
       "9     2      0  (25, 21)             4  "
      ]
     },
     "execution_count": 158,
     "metadata": {},
     "output_type": "execute_result"
    }
   ],
   "source": [
    "# peek at dataset \n",
    "print(len(df_transformed))\n",
    "df_transformed.head(10)"
   ]
  },
  {
   "cell_type": "code",
   "execution_count": 207,
   "id": "e4ab578b",
   "metadata": {},
   "outputs": [
    {
     "name": "stdout",
     "output_type": "stream",
     "text": [
      "average point differential per game: 6.544412607449857\n",
      "total games played in the 2015 season: 174.5\n",
      "average catches per game: 239.27507163323781\n",
      "average d's per game: 12.638968481375358\n",
      "average drops per game: 4.446991404011461\n"
     ]
    }
   ],
   "source": [
    "# get various summary statistics \n",
    "print(\"average point differential per game: \" + str(df_transformed[\"point_margin\"].abs().mean()))\n",
    "print(\"total games played in the 2015 season: \" + str(len(df_transformed)/2))\n",
    "print(\"average catches per game: \" + str(df_transformed[\"catches\"].mean()))\n",
    "print(\"average d's per game: \" + str(df_transformed[\"ds\"].mean()))\n",
    "print(\"average drops per game: \" + str(df_transformed[\"drop\"].mean()))"
   ]
  },
  {
   "cell_type": "code",
   "execution_count": 160,
   "id": "440f5f56",
   "metadata": {
    "scrolled": true
   },
   "outputs": [
    {
     "data": {
      "image/png": "[encoded data removed]",
      "text/plain": [
       "<Figure size 432x288 with 1 Axes>"
      ]
     },
     "metadata": {
      "needs_background": "light"
     },
     "output_type": "display_data"
    }
   ],
   "source": [
    "# see spread of point margins\n",
    "_ = plt.boxplot(df_transformed[\"point_margin\"])"
   ]
  },
  {
   "cell_type": "code",
   "execution_count": 177,
   "id": "293eba19",
   "metadata": {},
   "outputs": [
    {
     "data": {
      "text/plain": [
       "9.0"
      ]
     },
     "execution_count": 177,
     "metadata": {},
     "output_type": "execute_result"
    }
   ],
   "source": [
    "# get values for IQR of point margins \n",
    "q75, q25 = np.percentile(df_transformed['point_margin'], [75 ,25])\n",
    "iqr = q75 - q25\n",
    "iqr"
   ]
  },
  {
   "cell_type": "code",
   "execution_count": 161,
   "id": "d6490823",
   "metadata": {
    "scrolled": true
   },
   "outputs": [
    {
     "data": {
      "image/png": "[encoded data removed]",
      "text/plain": [
       "<Figure size 432x288 with 1 Axes>"
      ]
     },
     "metadata": {
      "needs_background": "light"
     },
     "output_type": "display_data"
    }
   ],
   "source": [
    "# histogram of catches \n",
    "_ = plt.hist(df_transformed[\"catches\"])"
   ]
  },
  {
   "cell_type": "code",
   "execution_count": 143,
   "id": "d2e05e4c",
   "metadata": {},
   "outputs": [],
   "source": [
    "wins = dict()\n",
    "for index, row in df_transformed.iterrows():\n",
    "    team1 = row[\"game_title\"].split(\" \")[0]\n",
    "    score = row[\"score\"]\n",
    "    wins[team1] = wins.get(team1, 0) + (1 if score[0] > score[1] else 0)"
   ]
  },
  {
   "cell_type": "code",
   "execution_count": 144,
   "id": "7e2ad743",
   "metadata": {
    "scrolled": false
   },
   "outputs": [
    {
     "data": {
      "image/png": "[encoded data removed]",
      "text/plain": [
       "<Figure size 432x288 with 1 Axes>"
      ]
     },
     "metadata": {
      "needs_background": "light"
     },
     "output_type": "display_data"
    }
   ],
   "source": [
    "# plot number of wins by team \n",
    "wins_sorted = dict(sorted(wins.items(), key=lambda item: item[1]))\n",
    "plt.bar(wins_sorted.keys(), wins_sorted.values(), edgecolor=\"white\")\n",
    "_ = plt.xticks(rotation=90)"
   ]
  },
  {
   "cell_type": "code",
   "execution_count": 145,
   "id": "4c46523c",
   "metadata": {},
   "outputs": [
    {
     "data": {
      "text/plain": [
       "Text(0.5, 1.0, 'Games played by date')"
      ]
     },
     "execution_count": 145,
     "metadata": {},
     "output_type": "execute_result"
    },
    {
     "data": {
      "image/png": "[encoded data removed]",
      "text/plain": [
       "<Figure size 432x288 with 1 Axes>"
      ]
     },
     "metadata": {
      "needs_background": "light"
     },
     "output_type": "display_data"
    }
   ],
   "source": [
    "# explore dates of games played \n",
    "times = set()\n",
    "for datestring in df[\"Date/Time\"]:\n",
    "    date_obj = datetime.strptime(datestring, '%Y-%m-%d %H:%M')\n",
    "    times.add(date_obj)\n",
    "    \n",
    "dates = list()\n",
    "for time in times:\n",
    "    dates.append(time.date())\n",
    "\n",
    "plt_times = mdates.date2num(dates)\n",
    "plt.hist(plt_times, edgecolor=\"white\")\n",
    "plt.gca().xaxis.set_major_formatter(mdates.DateFormatter('%m/%d/%Y'))\n",
    "plt.gca().xaxis.set_major_locator(mdates.MonthLocator())\n",
    "plt.title(\"Games played by date\")"
   ]
  },
  {
   "cell_type": "code",
   "execution_count": 43,
   "id": "8a20b4ff",
   "metadata": {
    "scrolled": true
   },
   "outputs": [
    {
     "name": "stdout",
     "output_type": "stream",
     "text": [
      "first game played, 2015-04-11\n",
      "last game played: 2015-08-09\n"
     ]
    }
   ],
   "source": [
    "print(\"first game played, \" + str(min(dates)) + \"\\nlast game played: \" + str(max(dates)))"
   ]
  },
  {
   "cell_type": "code",
   "execution_count": 146,
   "id": "cc18986b",
   "metadata": {
    "scrolled": false
   },
   "outputs": [
    {
     "data": {
      "text/plain": [
       "<AxesSubplot:>"
      ]
     },
     "execution_count": 146,
     "metadata": {},
     "output_type": "execute_result"
    },
    {
     "data": {
      "image/png": "[encoded data removed]",
      "text/plain": [
       "<Figure size 432x288 with 1 Axes>"
      ]
     },
     "metadata": {
      "needs_background": "light"
     },
     "output_type": "display_data"
    }
   ],
   "source": [
    "# get frequency of each action \n",
    "actions = df[\"Action\"]\n",
    "actions.value_counts().plot(kind=\"bar\")"
   ]
  },
  {
   "cell_type": "code",
   "execution_count": 83,
   "id": "92e6d068",
   "metadata": {},
   "outputs": [],
   "source": [
    "# now, start actual training of model \n",
    "# we want to predict the point margin of a game given the number of each type of action from a team "
   ]
  },
  {
   "cell_type": "code",
   "execution_count": 147,
   "id": "a1b030a7",
   "metadata": {},
   "outputs": [],
   "source": [
    "from sklearn.linear_model import LinearRegression, Ridge, Lasso \n",
    "from sklearn.model_selection import train_test_split "
   ]
  },
  {
   "cell_type": "code",
   "execution_count": 166,
   "id": "c3d2e08e",
   "metadata": {},
   "outputs": [],
   "source": [
    "x = df_transformed.loc[:, \"catches\":\"stall\"]\n",
    "x_norm = (x-x.min())/(x.max()-x.min())\n",
    "y = df_transformed[\"point_margin\"]\n",
    "x_train, x_test, y_train, y_test = train_test_split(x_norm, y, test_size = 0.2)"
   ]
  },
  {
   "cell_type": "code",
   "execution_count": 167,
   "id": "607c1728",
   "metadata": {},
   "outputs": [
    {
     "data": {
      "text/plain": [
       "LinearRegression()"
      ]
     },
     "execution_count": 167,
     "metadata": {},
     "output_type": "execute_result"
    }
   ],
   "source": [
    "linearModel = LinearRegression()\n",
    "linearModel.fit(x_train, y_train)"
   ]
  },
  {
   "cell_type": "code",
   "execution_count": 175,
   "id": "0d03b1e1",
   "metadata": {
    "scrolled": true
   },
   "outputs": [
    {
     "name": "stdout",
     "output_type": "stream",
     "text": [
      "MSE: 33.474065222340904\n",
      "MAE: 4.614417989271571\n"
     ]
    }
   ],
   "source": [
    "from sklearn.metrics import mean_squared_error, mean_absolute_error\n",
    "print(\"MSE: \" + str(mean_squared_error(y_test, linearModel.predict(x_test))))\n",
    "print(\"MAE: \" + str(mean_absolute_error(y_test, linearModel.predict(x_test))))"
   ]
  },
  {
   "cell_type": "code",
   "execution_count": null,
   "id": "49e7fc95",
   "metadata": {},
   "outputs": [],
   "source": []
  },
  {
   "cell_type": "code",
   "execution_count": 205,
   "id": "acb1e596",
   "metadata": {
    "scrolled": true
   },
   "outputs": [
    {
     "name": "stdout",
     "output_type": "stream",
     "text": [
      "-29.463812750237476\n",
      "the stats recorded for this outlier game:\n",
      "game_title      rochesterdragons v. torontorush, 2015-06-27\n",
      "catches                                                 183\n",
      "ds                                                       11\n",
      "throwaways                                               73\n",
      "drop                                                     26\n",
      "stall                                                     1\n",
      "score                                              (10, 27)\n",
      "point_margin                                            -17\n",
      "Name: 262, dtype: object\n",
      "                                      game_title  catches  ds  throwaways  \\\n",
      "320  torontorush v. rochesterdragons, 2015-06-27      169  21          67   \n",
      "\n",
      "     drop  stall     score  point_margin  \n",
      "320    19      0  (27, 10)            17  \n"
     ]
    }
   ],
   "source": [
    "# find outlier\n",
    "diff = y_test - linearModel.predict(x_test)\n",
    "index_maxdiff = np.argmax(diff)\n",
    "\n",
    "print(linearModel.predict(x_test)[index_maxdiff])\n",
    "print(\"the stats recorded for this outlier game:\")\n",
    "for index, row in df_transformed.iterrows():\n",
    "    if row.name == 262:\n",
    "        print(row)\n",
    "print(df_transformed[df_transformed[\"game_title\"] == \"torontorush v. rochesterdragons, 2015-06-27\"])"
   ]
  },
  {
   "cell_type": "code",
   "execution_count": 169,
   "id": "fa5ae3d5",
   "metadata": {},
   "outputs": [
    {
     "data": {
      "text/plain": [
       "array([ -8.33827591,  28.8145142 , -14.07339812, -22.55111549,\n",
       "        -3.03655762])"
      ]
     },
     "execution_count": 169,
     "metadata": {},
     "output_type": "execute_result"
    }
   ],
   "source": [
    "linearModel.coef_"
   ]
  },
  {
   "cell_type": "code",
   "execution_count": null,
   "id": "73f4a928",
   "metadata": {},
   "outputs": [],
   "source": [
    "# get both opponent's and your stats for a row "
   ]
  },
  {
   "cell_type": "code",
   "execution_count": 170,
   "id": "36c172f8",
   "metadata": {},
   "outputs": [
    {
     "data": {
      "image/png": "[encoded data removed]",
      "text/plain": [
       "<Figure size 720x720 with 1 Axes>"
      ]
     },
     "metadata": {
      "needs_background": "light"
     },
     "output_type": "display_data"
    }
   ],
   "source": [
    "# plot predicted v.s. true value \n",
    "true_value = y_test \n",
    "predicted_value = linearModel.predict(x_test)\n",
    "\n",
    "plt.figure(figsize=(10,10))\n",
    "plt.scatter(true_value, predicted_value, c='crimson')\n",
    "p1 = max(max(predicted_value), max(true_value))\n",
    "p2 = min(min(predicted_value), min(true_value))\n",
    "_ = plt.plot([p1, p2], [p1, p2], 'b-')\n"
   ]
  },
  {
   "cell_type": "code",
   "execution_count": 178,
   "id": "20ccd3f1",
   "metadata": {},
   "outputs": [
    {
     "data": {
      "text/plain": [
       "(0.7112286086015708, 5.218262882983995e-12)"
      ]
     },
     "execution_count": 178,
     "metadata": {},
     "output_type": "execute_result"
    }
   ],
   "source": [
    "from scipy import stats\n",
    "stats.pearsonr(predicted_value, true_value)"
   ]
  }
 ],
 "metadata": {
  "kernelspec": {
   "display_name": "Python 3 (ipykernel)",
   "language": "python",
   "name": "python3"
  },
  "language_info": {
   "codemirror_mode": {
    "name": "ipython",
    "version": 3
   },
   "file_extension": ".py",
   "mimetype": "text/x-python",
   "name": "python",
   "nbconvert_exporter": "python",
   "pygments_lexer": "ipython3",
   "version": "3.8.12"
  }
 },
 "nbformat": 4,
 "nbformat_minor": 5
}
